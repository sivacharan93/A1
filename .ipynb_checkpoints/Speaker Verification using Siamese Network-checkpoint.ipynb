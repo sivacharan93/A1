{
 "cells": [
  {
   "cell_type": "markdown",
   "metadata": {
    "colab_type": "text",
    "id": "view-in-github"
   },
   "source": [
    "<a href=\"https://colab.research.google.com/github/sivacharan93/A1/blob/master/Assignment_4_S.ipynb\" target=\"_parent\"><img src=\"https://colab.research.google.com/assets/colab-badge.svg\" alt=\"Open In Colab\"/></a>"
   ]
  },
  {
   "cell_type": "code",
   "execution_count": 0,
   "metadata": {
    "colab": {},
    "colab_type": "code",
    "id": "FP2HveOblTsU"
   },
   "outputs": [],
   "source": [
    "#Importing required libraries\n",
    "import tensorflow as tf\n",
    "import numpy as np\n",
    "import matplotlib.pyplot as plt\n",
    "import glob\n",
    "from google.colab import drive\n",
    "import pickle\n",
    "import librosa\n",
    "from itertools import combinations \n",
    "\n",
    "\n"
   ]
  },
  {
   "cell_type": "code",
   "execution_count": 0,
   "metadata": {
    "colab": {
     "base_uri": "https://localhost:8080/",
     "height": 33
    },
    "colab_type": "code",
    "id": "ow95gRh8IiZa",
    "outputId": "6a3d17b4-3035-4000-e549-668775fe9df3"
   },
   "outputs": [
    {
     "name": "stdout",
     "output_type": "stream",
     "text": [
      "Drive already mounted at /content/gdrive/; to attempt to forcibly remount, call drive.mount(\"/content/gdrive/\", force_remount=True).\n"
     ]
    }
   ],
   "source": [
    "#Mount drive\n",
    "drive.mount('/content/gdrive/')\n"
   ]
  },
  {
   "cell_type": "code",
   "execution_count": 0,
   "metadata": {
    "colab": {},
    "colab_type": "code",
    "id": "EbY1d2OMlY2F"
   },
   "outputs": [],
   "source": [
    "#Question 1\n",
    "#Load data\n",
    "\n",
    "path ='/content/gdrive/My Drive/Assignment_4/'\n",
    "f = open(path + 'hw4_trs.pkl','rb') \n",
    "train = pickle.load(f)\n",
    "\n",
    "\n",
    "f = open(path + 'hw4_tes.pkl','rb') \n",
    "test = pickle.load(f)"
   ]
  },
  {
   "cell_type": "code",
   "execution_count": 0,
   "metadata": {
    "colab": {},
    "colab_type": "code",
    "id": "6xgntKTzVPsU"
   },
   "outputs": [],
   "source": [
    "#Converting the files to stft and getting the absolute value\n",
    "\n",
    "train = [np.abs(librosa.stft(s, n_fft=1024, hop_length=512)).T for s in train]\n",
    "test = [np.abs(librosa.stft(s, n_fft=1024, hop_length=512)).T for s in test]\n",
    "\n",
    "\n",
    "#Sampling and creating the dataset for train and test\n",
    "\n",
    "def data_set(data):\n",
    "  speakers = len(data)//10\n",
    "  x1 = []\n",
    "  x2 = []\n",
    "  y  = []  \n",
    "  for i in range(1,speakers+1):\n",
    "    subset = data[i*10 - 10:i*10]\n",
    "    excludeset = np.delete(data,range(i*10 - 10,i*10),axis=0)\n",
    "    idx = list(combinations(range(10), 2))\n",
    "    x1 = x1 +  [subset[i[0]] for i in idx]\n",
    "    x2 = x2 + [subset[i[1]] for i in idx]\n",
    "    y  = y + [1]*len(idx)\n",
    "    idx = list(zip(np.random.randint(10,size=45),np.random.randint(len(data)-10,size=45)))\n",
    "    x1 = x1 +  [subset[i[0]] for i in idx]\n",
    "    x2 = x2 + [excludeset[i[1]] for i in idx]\n",
    "    y  = y + [0]*len(idx)\n",
    "  s = np.arange(np.array(x1).shape[0])\n",
    "  np.random.shuffle(s)\n",
    "  return np.array(x1)[s],np.array(x2)[s],np.array(y)[s]\n",
    "\n",
    "#Train and test data for network\n",
    "x1_train,x2_train,y_train = data_set(train)\n",
    "x1_test,x2_test,y_test = data_set(test)\n",
    "\n",
    "x1_train_len = [i.shape[0] for i in x1_train]\n",
    "x1_test_len = [i.shape[0] for i in x1_test]\n",
    "\n"
   ]
  },
  {
   "cell_type": "code",
   "execution_count": 0,
   "metadata": {
    "colab": {
     "base_uri": "https://localhost:8080/",
     "height": 465
    },
    "colab_type": "code",
    "id": "e39PiEetq7ch",
    "outputId": "22e7f97d-36e2-4887-d5f3-7a33e86904a2"
   },
   "outputs": [
    {
     "name": "stdout",
     "output_type": "stream",
     "text": [
      "Epoch 0 \t| Test Loss = 0.8 \t| Test Accuracy = 0.5\n",
      "Epoch 10 \t| Test Loss = 0.67 \t| Test Accuracy = 0.72\n",
      "Epoch 20 \t| Test Loss = 0.681 \t| Test Accuracy = 0.7\n",
      "Epoch 30 \t| Test Loss = 0.66 \t| Test Accuracy = 0.74\n",
      "Epoch 40 \t| Test Loss = 0.666 \t| Test Accuracy = 0.73\n",
      "Epoch 50 \t| Test Loss = 0.68 \t| Test Accuracy = 0.69\n",
      "Epoch 60 \t| Test Loss = 0.66 \t| Test Accuracy = 0.74\n",
      "Epoch 70 \t| Test Loss = 0.662 \t| Test Accuracy = 0.74\n",
      "Epoch 80 \t| Test Loss = 0.667 \t| Test Accuracy = 0.73\n",
      "Epoch 90 \t| Test Loss = 0.661 \t| Test Accuracy = 0.74\n"
     ]
    },
    {
     "data": {
      "text/plain": [
       "Text(0.5, 1.0, 'Convergence')"
      ]
     },
     "execution_count": 9,
     "metadata": {
      "tags": []
     },
     "output_type": "execute_result"
    },
    {
     "data": {
      "image/png": "[encoded data removed]",
      "text/plain": [
       "<Figure size 432x288 with 1 Axes>"
      ]
     },
     "metadata": {
      "tags": []
     },
     "output_type": "display_data"
    }
   ],
   "source": [
    "#next_batch\n",
    "def next_batch(x1,x2,y,seq_len,start,batch_size):\n",
    "     return x1[start:start + batch_size],x2[start:start + batch_size], y[start:start + batch_size],seq_len[start:start + batch_size]\n",
    "                                  \n",
    "#Network Parameters\n",
    "n_classes = 512\n",
    "n_channels = 1\n",
    "hidden_units = 512\n",
    "\n",
    "#Defining hyperparameters\n",
    "batch_size = 90\n",
    "n_epoch = 100\n",
    "display_f = 10\n",
    "keep_prob = 0.9\n",
    "learning_rate = 0.0001\n",
    "dropout = 0.1\n",
    "\n",
    "#Calc number of iterations in each epoch\n",
    "n_iter = len(x1_train)//batch_size\n",
    "\n",
    "\n",
    "#GRU CELL\n",
    "def lstm_cell():\n",
    "    lstm =tf.nn.rnn_cell.DropoutWrapper(tf.nn.rnn_cell.GRUCell(hidden_units, \n",
    "                                                          kernel_initializer =tf.contrib.layers.variance_scaling_initializer()),\n",
    "                                                          output_keep_prob = 1 - dropout)\n",
    "    return lstm\n",
    "\n",
    "#Batch Normaliztion\n",
    "def bn_layer(x,train_phase,momentum=0.9,epsilon=0.001):\n",
    "  return tf.layers.batch_normalization(\n",
    "        inputs=x,\n",
    "        axis=-1,\n",
    "        momentum=momentum,\n",
    "        epsilon=epsilon,\n",
    "        center=True,\n",
    "        scale=True,\n",
    "        reuse= False,\n",
    "        training = train_phase)\n",
    "\n",
    "  \n",
    "#Construct the graph\n",
    "tf.reset_default_graph()\n",
    "x1 = tf.placeholder(tf.float32,[None,None,513])\n",
    "x2 = tf.placeholder(tf.float32,[None,None,513])\n",
    "y = tf.placeholder(tf.float32,[None,1])\n",
    "seq_len = tf.placeholder(tf.int32,None)\n",
    "flag_training=tf.placeholder(tf.bool)\n",
    "\n",
    "\n",
    "\n",
    "#Network function\n",
    "def siamese_model(x,flag_training):\n",
    "    with tf.name_scope(\"model\"):\n",
    "#         with tf.variable_scope(\"conv1\",reuse = tf.AUTO_REUSE ) as scope:\n",
    "#               net = tf.layers.conv2d(input, 32, [3, 3], activation=tf.nn.relu, padding='SAME',\n",
    "#                     kernel_initializer=tf.contrib.layers.variance_scaling_initializer())\n",
    "#               net = tf.layers.max_pooling2d(net,  pool_size=[2,2],padding='same', strides=[2,2])\n",
    "\n",
    "#         with tf.variable_scope(\"conv2\",reuse = tf.AUTO_REUSE ) as scope:\n",
    "#               net = tf.layers.conv2d(input, 32, [3, 3], activation=tf.nn.relu, padding='SAME',\n",
    "#                     kernel_initializer=tf.contrib.layers.variance_scaling_initializer())\n",
    "#               net = tf.layers.max_pooling2d(net,  pool_size=[2,2],padding='same', strides=[2,2])\n",
    "\n",
    "        with tf.variable_scope(\"rnn1\",reuse = tf.AUTO_REUSE ) as scope:\n",
    "              cell = tf.contrib.rnn.MultiRNNCell([lstm_cell() for _ in range(2)])\n",
    "              net, _  = tf.nn.dynamic_rnn(cell, x, dtype=tf.float32,sequence_length=seq_len)\n",
    "\n",
    "\n",
    "        with tf.variable_scope(\"dense\",reuse = tf.AUTO_REUSE ) as scope: \n",
    "              net = bn_layer(net,flag_training)\n",
    "              net = tf.layers.dense(net, n_classes, kernel_initializer= tf.contrib.layers.variance_scaling_initializer(),activation=tf.nn.tanh)\n",
    "        net = tf.layers.flatten(net)\n",
    "        return net\n",
    "\n",
    "#Normalize the layeroutputs for cosine similiarity\n",
    "x1_output =  tf.nn.l2_normalize(siamese_model(x1,flag_training),0)\n",
    "x2_output =  tf.nn.l2_normalize(siamese_model(x2,flag_training),0)\n",
    "\n",
    "#Dot product of the embedding\n",
    "layer_dot = tf.reduce_sum(tf.multiply( x1_output, x2_output ),1, keep_dims=True)\n",
    "#Sigmoid wrapper\n",
    "sig_layer = tf.sigmoid(layer_dot)\n",
    "\n",
    "# loss_pos = -tf.multiply(y,tf.log(sig_layer))\n",
    "# loss_neg = - tf.multiply(tf.subtract(1.0,y),tf.log(tf.subtract(1.0,sig_layer)))\n",
    "# loss = tf.reduce_mean(tf.add(loss_pos,loss_neg))\n",
    "#Cross extropy loss\n",
    "loss = tf.reduce_mean(tf.nn.sigmoid_cross_entropy_with_logits(labels=y, logits=sig_layer))\n",
    "train_optimizer = tf.train.AdamOptimizer(learning_rate=learning_rate).minimize(loss)\n",
    "accuracy = tf.reduce_mean(tf.cast(tf.equal(tf.round(sig_layer),y),tf.float32))\n",
    "\n",
    "#Saving the session\n",
    "saver = tf.train.Saver()\n",
    "\n",
    "#Running the session\n",
    "with tf.Session()  as sess:\n",
    "  err = np.zeros(n_epoch)\n",
    "  tf.global_variables_initializer().run() \n",
    "  tf.local_variables_initializer().run()\n",
    "  train_writer = tf.summary.FileWriter(LOG_DIR, sess.graph)\n",
    "  extra_update_ops = tf.get_collection(tf.GraphKeys.UPDATE_OPS)\n",
    "  for epoch in range(n_epoch):\n",
    "\n",
    "    \n",
    "    for itr in range(n_iter):\n",
    "      \n",
    "      \n",
    "      x1_batch,x2_batch,y_batch,seq_len_batch = next_batch(x1_train,x2_train,y_train,x1_train_len,itr*batch_size,batch_size)\n",
    "#       x1_batch = x1_batch.reshape([batch_size,x1_train.shape[1],x1_train.shape[2],n_channels])\n",
    "#       x2_batch = x2_batch.reshape([batch_size,x2_train.shape[1],x2_train.shape[2],n_channels])\n",
    "      y_batch = y_batch.reshape([batch_size,1])\n",
    "\n",
    "                             \n",
    "#       x1_out,x2_out = sess.run([x1_output,x2_output], feed_dict={x1:x1_batch,x2:x2_batch,y:y_batch,seq_len:seq_len_batch})\n",
    "#       print(x1_out.shape,x2_out.shape)\n",
    "\n",
    "      _,_,tr_loss,sig_layer1 = sess.run([train_optimizer,extra_update_ops,loss,x1_output], feed_dict={x1:x1_batch,x2:x2_batch,y:y_batch,seq_len:seq_len_batch,flag_training:True})\n",
    "      #print(itr,tr_loss,sig_layer1)\n",
    "#       print(out,out.shape)\n",
    "#       print(itr)\n",
    "    \n",
    "    #Storing error and Accuracy\n",
    "    err[epoch],acc = sess.run([loss,accuracy],\\\n",
    "                              feed_dict={x1:x1_test,\n",
    "                                         x2:x2_test,\n",
    "                                         y:y_test.reshape([len(y_test),1]),seq_len:x1_test_len,flag_training:False})\n",
    "    \n",
    "    #Saving model to a file to be used for scoring\n",
    "    saver.save(sess, \"Model_1\")\n",
    "    \n",
    "    #Pring the Loss and SNR for each epoch\n",
    "    if epoch%display_f == 0:      \n",
    "      print(\"Epoch\", str(epoch), \"\\t| Test Loss =\", str(round(err[epoch],3)), \"\\t| Test Accuracy =\", str(round(acc,2)))\n",
    "    \n",
    "#plotting convergence    \n",
    "plt.figure()\n",
    "plt.plot(err)\n",
    "plt.title('Convergence')  "
   ]
  },
  {
   "cell_type": "markdown",
   "metadata": {
    "colab_type": "text",
    "id": "o_PUji8s3e0r"
   },
   "source": [
    "**The test accuracy is 74% on the 1800 pairs. 900 positive and 900 negative examples are in the data.**"
   ]
  }
 ],
 "metadata": {
  "accelerator": "GPU",
  "colab": {
   "collapsed_sections": [],
   "include_colab_link": true,
   "name": "Assignment_4_S.ipynb",
   "provenance": [],
   "version": "0.3.2"
  },
  "kernelspec": {
   "display_name": "Python 3",
   "language": "python",
   "name": "python3"
  },
  "language_info": {
   "codemirror_mode": {
    "name": "ipython",
    "version": 3
   },
   "file_extension": ".py",
   "mimetype": "text/x-python",
   "name": "python",
   "nbconvert_exporter": "python",
   "pygments_lexer": "ipython3",
   "version": "3.7.4"
  }
 },
 "nbformat": 4,
 "nbformat_minor": 1
}
